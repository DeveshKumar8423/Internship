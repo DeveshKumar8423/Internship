{
  "nbformat": 4,
  "nbformat_minor": 0,
  "metadata": {
    "colab": {
      "provenance": []
    },
    "kernelspec": {
      "name": "python3",
      "display_name": "Python 3"
    },
    "language_info": {
      "name": "python"
    }
  },
  "cells": [
    {
      "cell_type": "code",
      "execution_count": 1,
      "metadata": {
        "colab": {
          "base_uri": "https://localhost:8080/"
        },
        "id": "lXUeoX_Zxueb",
        "outputId": "24e8d86e-28fe-4dae-c3db-1f0dd8418ebb"
      },
      "outputs": [
        {
          "output_type": "stream",
          "name": "stdout",
          "text": [
            "Directory C:\\preview created\n",
            "Saved image 1 to C:\\preview\n",
            "Saved image 2 to C:\\preview\n",
            "Saved image 3 to C:\\preview\n",
            "Saved image 4 to C:\\preview\n",
            "Saved image 5 to C:\\preview\n",
            "Saved image 6 to C:\\preview\n",
            "Saved image 7 to C:\\preview\n",
            "Saved image 8 to C:\\preview\n",
            "Saved image 9 to C:\\preview\n",
            "Saved image 10 to C:\\preview\n",
            "Saved image 11 to C:\\preview\n",
            "Saved image 12 to C:\\preview\n",
            "Saved image 13 to C:\\preview\n",
            "Saved image 14 to C:\\preview\n",
            "Saved image 15 to C:\\preview\n",
            "Saved image 16 to C:\\preview\n",
            "Saved image 17 to C:\\preview\n",
            "Saved image 18 to C:\\preview\n",
            "Saved image 19 to C:\\preview\n",
            "Saved image 20 to C:\\preview\n",
            "Saved image 21 to C:\\preview\n"
          ]
        }
      ],
      "source": [
        "# Data Augmentation\n",
        "\n",
        "import keras\n",
        "import os\n",
        "\n",
        "from keras.preprocessing.image import ImageDataGenerator, array_to_img, img_to_array, load_img\n",
        "\n",
        "# Specify the absolute path to the preview folder\n",
        "preview_dir = 'C:\\\\preview'  # Use double backslashes or raw string to avoid escape characters\n",
        "\n",
        "# Create the preview directory if it doesn't exist\n",
        "if not os.path.exists(preview_dir):\n",
        "    os.makedirs(preview_dir)\n",
        "    print(f\"Directory {preview_dir} created\")\n",
        "\n",
        "datagen = ImageDataGenerator(\n",
        "    rotation_range=40,\n",
        "    width_shift_range=0.2,\n",
        "    height_shift_range=0.2,\n",
        "    shear_range=0.2,\n",
        "    zoom_range=0.2,\n",
        "    horizontal_flip=True,\n",
        "    fill_mode='nearest'\n",
        ")\n",
        "\n",
        "# Ensure the image path is correct\n",
        "image_path = '/content/clear3.JPG'\n",
        "if not os.path.exists(image_path):\n",
        "    print(f\"Image not found at {image_path}\")\n",
        "else:\n",
        "    img = load_img(image_path)  # this is a PIL image\n",
        "    x = img_to_array(img)  # this is a numpy array with shape (3, 150, 150)\n",
        "    x = x.reshape((1,) + x.shape)  # this is a numpy array with shape (1, 3, 150, 150)\n",
        "\n",
        "    # the .flow() command below generates batches of randomly transformed images\n",
        "    # and saves the results to the specified directory\n",
        "\n",
        "    i = 0\n",
        "    for batch in datagen.flow(x, batch_size=1, save_to_dir=preview_dir, save_prefix='cancer', save_format='jpeg'):\n",
        "        i += 1\n",
        "        print(f\"Saved image {i} to {preview_dir}\")\n",
        "        if i > 20:\n",
        "            break\n"
      ]
    },
    {
      "cell_type": "code",
      "source": [],
      "metadata": {
        "id": "mtNy2CoHyZ8o"
      },
      "execution_count": null,
      "outputs": []
    }
  ]
}